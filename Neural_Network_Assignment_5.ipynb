{
  "cells": [
    {
      "cell_type": "markdown",
      "metadata": {
        "id": "view-in-github",
        "colab_type": "text"
      },
      "source": [
        "<a href=\"https://colab.research.google.com/github/ion-ian/MachineLearning_Code/blob/master/Neural_Network_Assignment_5.ipynb\" target=\"_parent\"><img src=\"https://colab.research.google.com/assets/colab-badge.svg\" alt=\"Open In Colab\"/></a>"
      ]
    },
    {
      "cell_type": "code",
      "execution_count": null,
      "id": "0e59dabd-b795-4d87-b0dd-2b2c1c3e5cd9",
      "metadata": {
        "colab": {
          "base_uri": "https://localhost:8080/"
        },
        "id": "0e59dabd-b795-4d87-b0dd-2b2c1c3e5cd9",
        "outputId": "37f81bae-b611-4514-a768-1f83c5b88c14"
      },
      "outputs": [
        {
          "output_type": "stream",
          "name": "stdout",
          "text": [
            "The value of O3 is: 0.2294682264328003\n"
          ]
        }
      ],
      "source": [
        "import numpy as np\n",
        "import tensorflow as tf\n",
        "\n",
        "def logistic_fun(x):\n",
        "  return tf.math.sigmoid(x)\n",
        "\n",
        "x = tf.constant([1.5, 2.5, 3.0], dtype=tf.float32)\n",
        "\n",
        "W1 = tf.constant(0.05, shape=(4, 3), dtype=tf.float32)\n",
        "W2 = tf.constant(0.025, shape=(3, 4), dtype=tf.float32)\n",
        "W3 = tf.constant(1.0, shape=(5, 3), dtype=tf.float32)\n",
        "\n",
        "b1 = tf.constant([0.1, 0.2, 0.3, 0.4], dtype=tf.float32)\n",
        "b2 = tf.constant([5.2, 3.2, 4.3], dtype=tf.float32)\n",
        "b3 = tf.constant([0.2, 0.45, 0.75, 0.55, 0.95], dtype=tf.float32)\n",
        "\n",
        "z1 = tf.linalg.matvec(W1, x) + b1\n",
        "h1 = logistic_fun(z1)\n",
        "\n",
        "z2 = tf.linalg.matvec(W2, h1) + b2\n",
        "h2 = logistic_fun(z2)\n",
        "\n",
        "z3 = tf.linalg.matvec(W3, h2) + b3\n",
        "output = tf.nn.softmax(z3)\n",
        "O3 = output[2]\n",
        "print(f\"The value of O3 is: {O3.numpy()}\")\n"
      ]
    },
    {
      "cell_type": "code",
      "execution_count": null,
      "id": "002cdda5-82f7-4ad4-85ce-16658a65897a",
      "metadata": {
        "id": "002cdda5-82f7-4ad4-85ce-16658a65897a"
      },
      "outputs": [],
      "source": []
    }
  ],
  "metadata": {
    "kernelspec": {
      "display_name": "Python 3 (ipykernel)",
      "language": "python",
      "name": "python3"
    },
    "language_info": {
      "codemirror_mode": {
        "name": "ipython",
        "version": 3
      },
      "file_extension": ".py",
      "mimetype": "text/x-python",
      "name": "python",
      "nbconvert_exporter": "python",
      "pygments_lexer": "ipython3",
      "version": "3.10.16"
    },
    "colab": {
      "provenance": [],
      "include_colab_link": true
    }
  },
  "nbformat": 4,
  "nbformat_minor": 5
}